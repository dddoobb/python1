{
  "nbformat": 4,
  "nbformat_minor": 0,
  "metadata": {
    "colab": {
      "name": "프로젝트(호로롱).ipynb",
      "provenance": [],
      "collapsed_sections": [],
      "authorship_tag": "ABX9TyPZDbjkTXSn5MixoQUiivFX",
      "include_colab_link": true
    },
    "kernelspec": {
      "name": "python3",
      "display_name": "Python 3"
    },
    "language_info": {
      "name": "python"
    }
  },
  "cells": [
    {
      "cell_type": "markdown",
      "metadata": {
        "id": "view-in-github",
        "colab_type": "text"
      },
      "source": [
        "<a href=\"https://colab.research.google.com/github/dddoobb/python1/blob/main/%ED%94%84%EB%A1%9C%EC%A0%9D%ED%8A%B8(%ED%98%B8%EB%A1%9C%EB%A1%B1).ipynb\" target=\"_parent\"><img src=\"https://colab.research.google.com/assets/colab-badge.svg\" alt=\"Open In Colab\"/></a>"
      ]
    },
    {
      "cell_type": "markdown",
      "source": [
        "# 남 / 녀 구분하여 랜덤 자리배치 프로그램\n",
        "\n",
        "- 자리 배치표에 1 - 16(남학생), 17 - 28(여학생) 번호를 적어둔 후 프로그램을 실행한다. \n",
        "\n",
        "- 우리 학교는 여학생 번호가 51번부터 시작하기에 따로 구분하지 않아도 되었는데 이름 순인 경우 세번째 열에 남녀를 구분하여 G, B 적어둔다.\n",
        "\n",
        "** 이전 자리 안 앉기 기능 생각해보기"
      ],
      "metadata": {
        "id": "ZlDvo4tkF1bz"
      }
    },
    {
      "cell_type": "code",
      "execution_count": 19,
      "metadata": {
        "colab": {
          "resources": {
            "http://localhost:8080/nbextensions/google.colab/files.js": {
              "data": "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",
              "ok": true,
              "headers": [
                [
                  "content-type",
                  "application/javascript"
                ]
              ],
              "status": 200,
              "status_text": ""
            }
          },
          "base_uri": "https://localhost:8080/",
          "height": 132
        },
        "id": "4kx8FNa66ERW",
        "outputId": "96db537b-2a21-4d55-9b5e-36d21a22a97b"
      },
      "outputs": [
        {
          "output_type": "display_data",
          "data": {
            "text/plain": [
              "<IPython.core.display.HTML object>"
            ],
            "text/html": [
              "\n",
              "     <input type=\"file\" id=\"files-199db1a9-2e78-4c29-9c68-792d14892202\" name=\"files[]\" multiple disabled\n",
              "        style=\"border:none\" />\n",
              "     <output id=\"result-199db1a9-2e78-4c29-9c68-792d14892202\">\n",
              "      Upload widget is only available when the cell has been executed in the\n",
              "      current browser session. Please rerun this cell to enable.\n",
              "      </output>\n",
              "      <script src=\"/nbextensions/google.colab/files.js\"></script> "
            ]
          },
          "metadata": {}
        },
        {
          "output_type": "stream",
          "name": "stdout",
          "text": [
            "Saving 우리반 명단.csv to 우리반 명단 (1).csv\n"
          ]
        },
        {
          "output_type": "execute_result",
          "data": {
            "text/plain": [
              "{'우리반 명단.csv': b'\\xef\\xbb\\xbf\\xeb\\xb2\\x88\\xed\\x98\\xb8,\\xec\\x9d\\xb4 \\xeb\\xa6\\x84\\r\\n1,\\xea\\xb0\\x95\\xec\\x84\\xb1\\xec\\x9b\\x85\\r\\n2,\\xea\\xb9\\x80\\xeb\\xaf\\xbc\\xec\\x86\\x94\\r\\n3,\\xea\\xb9\\x80\\xeb\\xaf\\xbc\\xec\\xa4\\x80\\r\\n4,\\xea\\xb9\\x80\\xec\\x8a\\xb9\\xec\\xa4\\x80\\r\\n5,\\xea\\xb9\\x80\\xec\\xa7\\x80\\xed\\x98\\xb8\\r\\n6,\\xea\\xb9\\x80\\xed\\x95\\x98\\xeb\\xaf\\xbc\\r\\n7,\\xea\\xb9\\x80\\xed\\x98\\x84\\xeb\\xaf\\xbc\\r\\n8,\\xeb\\xb0\\x95\\xec\\xa7\\x80\\xec\\x98\\xa4\\r\\n9,\\xec\\x86\\xa1\\xec\\x9a\\xb0\\xec\\xa7\\x84\\r\\n10,\\xec\\x9d\\xb4\\xea\\xb7\\x9c\\xed\\x98\\x84\\r\\n11,\\xec\\x9d\\xb4\\xec\\x8b\\xa0\\xec\\x9a\\xb1\\r\\n12,\\xec\\x9d\\xb4\\xec\\x9e\\xac\\xec\\x9c\\xa4\\r\\n13,\\xec\\xa0\\x95\\xec\\x88\\x98\\xed\\x99\\x98\\r\\n14,\\xec\\xa0\\x95\\xec\\x9c\\xa4\\xeb\\xb2\\x94\\r\\n15,\\xec\\xb5\\x9c\\xec\\xa7\\x80\\xed\\x98\\xb8\\r\\n16,\\xed\\x98\\x84\\xec\\x84\\x9c\\xec\\x98\\x81\\r\\n51,\\xea\\xb9\\x80\\xea\\xb0\\x80\\xec\\x9d\\x80\\r\\n52,\\xea\\xb9\\x80\\xeb\\xa6\\xac\\xec\\x97\\x98\\r\\n53,\\xea\\xb9\\x80\\xec\\x8b\\x9c\\xec\\x9c\\xa4\\r\\n54,\\xeb\\xb0\\x95\\xec\\x97\\xb0\\xec\\x9a\\xb0\\r\\n55,\\xec\\x8b\\xac\\xec\\x9d\\x80\\xec\\xb1\\x84\\r\\n56,\\xec\\x98\\xa4\\xea\\xb2\\xbd\\xec\\xa3\\xbc\\r\\n57,\\xec\\x9c\\xa0\\xec\\xa3\\xbc\\xed\\x98\\x84\\r\\n58,\\xec\\x9d\\xb4\\xec\\x88\\x98\\xec\\x95\\x84\\r\\n59,\\xec\\x9d\\xb4\\xec\\xb1\\x84\\xec\\x9c\\xa8\\r\\n60,\\xec\\xa0\\x95\\xec\\x95\\x84\\xec\\x9d\\xb8\\r\\n61,\\xec\\xa0\\x95\\xec\\xa3\\xbc\\xec\\x95\\x88\\r\\n62,\\xed\\x95\\x98\\xec\\x9e\\xac\\xec\\x9c\\xa4\\r\\n,\\r\\n'}"
            ]
          },
          "metadata": {},
          "execution_count": 19
        }
      ],
      "source": [
        "#파일 불러오기\n",
        "from google.colab import files\n",
        "files.upload()"
      ]
    },
    {
      "cell_type": "markdown",
      "source": [
        "남/여 번호가 구분되어 있는 경우"
      ],
      "metadata": {
        "id": "nIJEF46GICoY"
      }
    },
    {
      "cell_type": "code",
      "source": [
        "#우리반 명단 불러오기\n",
        "import csv\n",
        "data = csv.reader(open('우리반 명단.csv'))\n",
        "next(data)\n",
        "\n",
        "import random #무작위 자리배치를 위해 랜덤 모듈 사용\n",
        "import time   #박진감을 위해 타임 모듈 사용\n",
        "\n",
        "# 성별에 따라 남/녀 리스트에 넣기 \n",
        "\n",
        "boy = []\n",
        "girl = []\n",
        "\n",
        "for row in data:\n",
        "  if row[0] != '':\n",
        "    if int(row[0]) <= 20:\n",
        "      boy.append(row[1])\n",
        "    if int(row[0]) >= 51:\n",
        "      girl.append(row[1])\n",
        "\n",
        "boynumber = len(boy)  #type(len(boy)) = int\n",
        "girlnumber = len(girl)\n",
        "\n",
        "\n",
        "#무작위 자리 배치하기\n",
        "seat = {}\n",
        "\n",
        "for n in range(27):\n",
        "  if n < boynumber:\n",
        "    pick = random.choice(boy)\n",
        "    time.sleep(2)\n",
        "    print(n+1,'번 자리는', pick, '당첨!!')  #학생 편의를 위해 1번부터 시작\n",
        "    seat[n+1] = pick\n",
        "    boy.remove(pick)\n",
        "\n",
        "  else:\n",
        "    pick = random.choice(girl)\n",
        "    time.sleep(2)\n",
        "    print(n+1,'번 자리는', pick, '당첨!!')\n",
        "    seat[n+1] = pick\n",
        "    girl.remove(pick)\n",
        "\n",
        "print(seat)"
      ],
      "metadata": {
        "colab": {
          "base_uri": "https://localhost:8080/"
        },
        "id": "ZU49Og676POc",
        "outputId": "6b42eaec-c6a7-4872-d3ac-7345fc500b01"
      },
      "execution_count": 50,
      "outputs": [
        {
          "output_type": "stream",
          "name": "stdout",
          "text": [
            "1 번 자리는 송우진 당첨!!\n",
            "2 번 자리는 정윤범 당첨!!\n",
            "3 번 자리는 현서영 당첨!!\n",
            "4 번 자리는 김민솔 당첨!!\n",
            "5 번 자리는 정수환 당첨!!\n",
            "6 번 자리는 최지호 당첨!!\n",
            "7 번 자리는 박지오 당첨!!\n",
            "8 번 자리는 김민준 당첨!!\n",
            "9 번 자리는 김승준 당첨!!\n",
            "10 번 자리는 강성웅 당첨!!\n",
            "11 번 자리는 김지호 당첨!!\n",
            "12 번 자리는 이재윤 당첨!!\n",
            "13 번 자리는 이규현 당첨!!\n",
            "14 번 자리는 김현민 당첨!!\n",
            "15 번 자리는 이신욱 당첨!!\n",
            "16 번 자리는 김하민 당첨!!\n",
            "17 번 자리는 이채율 당첨!!\n",
            "18 번 자리는 심은채 당첨!!\n",
            "19 번 자리는 박연우 당첨!!\n",
            "20 번 자리는 김리엘 당첨!!\n",
            "21 번 자리는 이수아 당첨!!\n",
            "22 번 자리는 정아인 당첨!!\n",
            "23 번 자리는 김가은 당첨!!\n",
            "24 번 자리는 하재윤 당첨!!\n",
            "25 번 자리는 정주안 당첨!!\n",
            "26 번 자리는 김시윤 당첨!!\n",
            "27 번 자리는 유주현 당첨!!\n",
            "{1: '송우진', 2: '정윤범', 3: '현서영', 4: '김민솔', 5: '정수환', 6: '최지호', 7: '박지오', 8: '김민준', 9: '김승준', 10: '강성웅', 11: '김지호', 12: '이재윤', 13: '이규현', 14: '김현민', 15: '이신욱', 16: '김하민', 17: '이채율', 18: '심은채', 19: '박연우', 20: '김리엘', 21: '이수아', 22: '정아인', 23: '김가은', 24: '하재윤', 25: '정주안', 26: '김시윤', 27: '유주현'}\n"
          ]
        }
      ]
    },
    {
      "cell_type": "markdown",
      "source": [
        "남/여가 구분되지 않은 경우 세번째 열에 여자는 G, 남자는 B를 추가"
      ],
      "metadata": {
        "id": "vDAoVzH5IKMU"
      }
    },
    {
      "cell_type": "code",
      "source": [
        "#우리반 명단 불러오기\n",
        "import csv\n",
        "data = csv.reader(open('우리반 명단.csv'))\n",
        "next(data)\n",
        "\n",
        "import random #무작위 자리배치를 위해 랜덤 모듈 사용\n",
        "import time   #박진감을 위해 타임 모듈 사용\n",
        "\n",
        "# 성별에 따라 남/녀 리스트에 넣기 \n",
        "\n",
        "boy = []\n",
        "girl = []\n",
        "\n",
        "for row in data:\n",
        "  if row[0] != '':\n",
        "    if row[2] == 'B':\n",
        "      boy.append(row[1])\n",
        "    if row[2] == 'G':\n",
        "      girl.append(row[1])\n",
        "\n",
        "boynumber = len(boy)  #type(len(boy)) = int\n",
        "girlnumber = len(girl)\n",
        "\n",
        "\n",
        "#무작위 자리 배치하기\n",
        "seat = {}\n",
        "\n",
        "for n in range(27):\n",
        "  if n < boynumber:\n",
        "    pick = random.choice(boy)\n",
        "    time.sleep(2)\n",
        "    print(n+1,'번 자리는', pick, '당첨!!')  #학생 편의를 위해 1번부터 시작\n",
        "    seat[n+1] = pick\n",
        "    boy.remove(pick)\n",
        "\n",
        "  else:\n",
        "    pick = random.choice(girl)\n",
        "    time.sleep(2)\n",
        "    print(n+1,'번 자리는', pick, '당첨!!')\n",
        "    seat[n+1] = pick\n",
        "    girl.remove(pick)\n",
        "\n",
        "print(seat)"
      ],
      "metadata": {
        "id": "orwtpkONHgUd"
      },
      "execution_count": null,
      "outputs": []
    }
  ]
}